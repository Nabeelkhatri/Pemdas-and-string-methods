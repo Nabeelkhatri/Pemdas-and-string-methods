{
 "cells": [
  {
   "cell_type": "code",
   "execution_count": 1,
   "metadata": {},
   "outputs": [
    {
     "data": {
      "text/plain": [
       "36.5"
      ]
     },
     "execution_count": 1,
     "metadata": {},
     "output_type": "execute_result"
    }
   ],
   "source": [
    "33+2*4+5+3**3-7-(4*9)-8/2*6+8-3-(7*3)+18/4+7*6   #first pemdas"
   ]
  },
  {
   "cell_type": "code",
   "execution_count": 2,
   "metadata": {},
   "outputs": [
    {
     "data": {
      "text/plain": [
       "-6735.0"
      ]
     },
     "execution_count": 2,
     "metadata": {},
     "output_type": "execute_result"
    }
   ],
   "source": [
    "4+12*34-8+9/3*8-3**(2*4)-40*7+8/2+7-(7*8)*6+9-6  #second pemdas"
   ]
  },
  {
   "cell_type": "code",
   "execution_count": 3,
   "metadata": {},
   "outputs": [
    {
     "data": {
      "text/plain": [
       "'Pakistan zindabad'"
      ]
     },
     "execution_count": 3,
     "metadata": {},
     "output_type": "execute_result"
    }
   ],
   "source": [
    "a='PaKisTan ziNdaBad'    #Converts first character to Capital Letter\n",
    "a.capitalize()"
   ]
  },
  {
   "cell_type": "code",
   "execution_count": 4,
   "metadata": {},
   "outputs": [
    {
     "data": {
      "text/plain": [
       "'pakistan zindabad'"
      ]
     },
     "execution_count": 4,
     "metadata": {},
     "output_type": "execute_result"
    }
   ],
   "source": [
    "a='PaKisTan ziNdaBad'    #converts to casefolded strings\n",
    "a.casefold()  "
   ]
  },
  {
   "cell_type": "code",
   "execution_count": 5,
   "metadata": {},
   "outputs": [
    {
     "data": {
      "text/plain": [
       "'$PaKisTan ziNdaBad$$'"
      ]
     },
     "execution_count": 5,
     "metadata": {},
     "output_type": "execute_result"
    }
   ],
   "source": [
    "a='PaKisTan ziNdaBad'    #Pads string with specified character\n",
    "a.center(20,'$')  "
   ]
  },
  {
   "cell_type": "code",
   "execution_count": 6,
   "metadata": {},
   "outputs": [
    {
     "data": {
      "text/plain": [
       "4"
      ]
     },
     "execution_count": 6,
     "metadata": {},
     "output_type": "execute_result"
    }
   ],
   "source": [
    "a='PaKisTan ziNdaBad'    #returns occurrences of substring in string\n",
    "a.count('a')   "
   ]
  },
  {
   "cell_type": "code",
   "execution_count": 7,
   "metadata": {},
   "outputs": [
    {
     "data": {
      "text/plain": [
       "b'PaKisTan ziNdaBad'"
      ]
     },
     "execution_count": 7,
     "metadata": {},
     "output_type": "execute_result"
    }
   ],
   "source": [
    "a='PaKisTan ziNdaBad'    #returns encoded string of given string\n",
    "a.encode()   "
   ]
  },
  {
   "cell_type": "code",
   "execution_count": 8,
   "metadata": {},
   "outputs": [
    {
     "data": {
      "text/plain": [
       "True"
      ]
     },
     "execution_count": 8,
     "metadata": {},
     "output_type": "execute_result"
    }
   ],
   "source": [
    "a='PaKisTan ziNdaBad'    #Checks if String Ends with the Specified Suffix\n",
    "a.endswith('d')"
   ]
  },
  {
   "cell_type": "code",
   "execution_count": 9,
   "metadata": {},
   "outputs": [
    {
     "data": {
      "text/plain": [
       "'pakistan  zindabad'"
      ]
     },
     "execution_count": 9,
     "metadata": {},
     "output_type": "execute_result"
    }
   ],
   "source": [
    "b='pakistan\\tzindabad'   #Replaces Tab character With Spaces\n",
    "b.expandtabs(5)"
   ]
  },
  {
   "cell_type": "code",
   "execution_count": 10,
   "metadata": {},
   "outputs": [
    {
     "data": {
      "text/plain": [
       "7"
      ]
     },
     "execution_count": 10,
     "metadata": {},
     "output_type": "execute_result"
    }
   ],
   "source": [
    "a='PaKisTan ziNdaBad'   #Returns the index of first occurrence of substring\n",
    "a.find('n')"
   ]
  },
  {
   "cell_type": "code",
   "execution_count": 11,
   "metadata": {},
   "outputs": [
    {
     "name": "stdout",
     "output_type": "stream",
     "text": [
      "My name is nabeel\n"
     ]
    }
   ],
   "source": [
    "c='My name is {}'          #formats string into nicer output\n",
    "print(c.format('nabeel'))"
   ]
  },
  {
   "cell_type": "code",
   "execution_count": 12,
   "metadata": {},
   "outputs": [
    {
     "name": "stdout",
     "output_type": "stream",
     "text": [
      "my name is Nabeel and i am 19 year old\n"
     ]
    }
   ],
   "source": [
    "a='my name is {} and i am {} year old'   \n",
    "b='Nabeel'\n",
    "c=19\n",
    "print(a.format(b,c))"
   ]
  },
  {
   "cell_type": "code",
   "execution_count": 13,
   "metadata": {},
   "outputs": [
    {
     "name": "stdout",
     "output_type": "stream",
     "text": [
      "my name is nabeel and i am 19 years old\n"
     ]
    }
   ],
   "source": [
    "a={'h':'nabeel','i':'19'}                   #Formats the String Using Dictionary\n",
    "b='my name is {h} and i am {i} years old'\n",
    "print(b.format_map(a))"
   ]
  },
  {
   "cell_type": "code",
   "execution_count": 14,
   "metadata": {},
   "outputs": [
    {
     "data": {
      "text/plain": [
       "11"
      ]
     },
     "execution_count": 14,
     "metadata": {},
     "output_type": "execute_result"
    }
   ],
   "source": [
    "a='PaKisTan ziNdaBad'    #Returns Index of Substring\n",
    "a.index('N')"
   ]
  },
  {
   "cell_type": "code",
   "execution_count": 15,
   "metadata": {},
   "outputs": [
    {
     "name": "stdout",
     "output_type": "stream",
     "text": [
      "False\n",
      "False\n",
      "True\n",
      "True\n"
     ]
    }
   ],
   "source": [
    "a='PaKisTan ziNdaBad'    #Checks Alphanumeric Character\n",
    "b='pak3st7n z8nda7ad'\n",
    "c='pa9atsn7802nsjh'\n",
    "d='1213143'\n",
    "print(a.isalnum())\n",
    "print(b.isalnum())\n",
    "print(c.isalnum())\n",
    "print(d.isalnum())"
   ]
  },
  {
   "cell_type": "code",
   "execution_count": 16,
   "metadata": {},
   "outputs": [
    {
     "name": "stdout",
     "output_type": "stream",
     "text": [
      "True\n",
      "False\n",
      "False\n"
     ]
    }
   ],
   "source": [
    "a='PaKisTanziNdaBad'      #Checks if All Characters are Alphabets\n",
    "b='PaKisTan ziNdaBad'\n",
    "c='pa9atsn7802nsjh'\n",
    "print(a.isalpha())\n",
    "print(b.isalpha())\n",
    "print(c.isalpha())"
   ]
  },
  {
   "cell_type": "code",
   "execution_count": 17,
   "metadata": {},
   "outputs": [
    {
     "name": "stdout",
     "output_type": "stream",
     "text": [
      "True\n",
      "True\n"
     ]
    }
   ],
   "source": [
    "a='PaKisTan ziNdaBad'    \n",
    "b='pakistan'\n",
    "print(a.isascii())\n",
    "print(b.isascii())"
   ]
  },
  {
   "cell_type": "code",
   "execution_count": 18,
   "metadata": {},
   "outputs": [
    {
     "name": "stdout",
     "output_type": "stream",
     "text": [
      "False\n",
      "True\n"
     ]
    }
   ],
   "source": [
    "a='PaKisTan ziNdaBad'    #Checks Decimal Characters\n",
    "b='123456'\n",
    "print(a.isdecimal())\n",
    "print(b.isdecimal())"
   ]
  },
  {
   "cell_type": "code",
   "execution_count": 19,
   "metadata": {},
   "outputs": [
    {
     "name": "stdout",
     "output_type": "stream",
     "text": [
      "False\n",
      "True\n"
     ]
    }
   ],
   "source": [
    "a='PaKisTan ziNdaBad'     #Checks Digit Characters\n",
    "print(a.isdigit())\n",
    "b='123456'\n",
    "print(b.isdecimal())"
   ]
  },
  {
   "cell_type": "code",
   "execution_count": 20,
   "metadata": {},
   "outputs": [
    {
     "name": "stdout",
     "output_type": "stream",
     "text": [
      "False\n",
      "True\n",
      "True\n"
     ]
    }
   ],
   "source": [
    "a='PaKisTan ziNdaBad'      #Checks for Valid Identifier\n",
    "b='nab123'\n",
    "c='pakistanzindabad'\n",
    "print(a.isidentifier())\n",
    "print(b.isidentifier())\n",
    "print(c.isidentifier())"
   ]
  },
  {
   "cell_type": "code",
   "execution_count": 21,
   "metadata": {},
   "outputs": [
    {
     "name": "stdout",
     "output_type": "stream",
     "text": [
      "False\n",
      "True\n",
      "True\n"
     ]
    }
   ],
   "source": [
    "a='PaKisTan ziNdaBad'      #Checks if all Alphabets in a String are Lowercase\n",
    "b='nab123'\n",
    "c='pakistanzindabad'\n",
    "print(a.islower())\n",
    "print(b.islower())\n",
    "print(c.islower())"
   ]
  },
  {
   "cell_type": "code",
   "execution_count": 22,
   "metadata": {},
   "outputs": [
    {
     "name": "stdout",
     "output_type": "stream",
     "text": [
      "False\n",
      "False\n",
      "True\n"
     ]
    }
   ],
   "source": [
    "a='PaKisTan ziNdaBad'      #Checks Numeric Characters\n",
    "b='/nab123'\n",
    "c='12345'\n",
    "print(a.isnumeric())\n",
    "print(b.isnumeric())\n",
    "print(c.isnumeric())"
   ]
  },
  {
   "cell_type": "code",
   "execution_count": 23,
   "metadata": {},
   "outputs": [
    {
     "name": "stdout",
     "output_type": "stream",
     "text": [
      "True\n",
      "True\n",
      "True\n"
     ]
    }
   ],
   "source": [
    "a='PaKisTan ziNdaBad'      #Checks Printable Character\n",
    "b='nab123'\n",
    "c='pakistanzindabad'\n",
    "print(a.isprintable())\n",
    "print(b.isprintable())\n",
    "print(c.isprintable())"
   ]
  },
  {
   "cell_type": "code",
   "execution_count": 24,
   "metadata": {},
   "outputs": [
    {
     "name": "stdout",
     "output_type": "stream",
     "text": [
      "False\n",
      "True\n",
      "False\n"
     ]
    }
   ],
   "source": [
    "a='PaKisTan ziNdaBad'    #Checks Whitespace Characters\n",
    "b=' \\t '\n",
    "c='pakistanzindabad'\n",
    "print(a.isspace())\n",
    "print(b.isspace())\n",
    "print(c.isspace())"
   ]
  },
  {
   "cell_type": "code",
   "execution_count": 25,
   "metadata": {},
   "outputs": [
    {
     "name": "stdout",
     "output_type": "stream",
     "text": [
      "False\n",
      "True\n",
      "True\n"
     ]
    }
   ],
   "source": [
    "a='PaKisTan ZiNdaBad'     #Checks for Titlecased String\n",
    "b='Nab123'\n",
    "c='Pakistan Zindabad'\n",
    "print(a.istitle())\n",
    "print(b.istitle())\n",
    "print(c.istitle())"
   ]
  },
  {
   "cell_type": "code",
   "execution_count": 26,
   "metadata": {},
   "outputs": [
    {
     "name": "stdout",
     "output_type": "stream",
     "text": [
      "False\n",
      "True\n",
      "True\n"
     ]
    }
   ],
   "source": [
    "a='PaKisTan ziNdaBad'       #returns if all characters are uppercase characters\n",
    "b='NAB123'\n",
    "c='PAKISTAN'\n",
    "print(a.isupper())\n",
    "print(b.isupper())\n",
    "print(c.isupper())"
   ]
  },
  {
   "cell_type": "code",
   "execution_count": 27,
   "metadata": {},
   "outputs": [
    {
     "name": "stdout",
     "output_type": "stream",
     "text": [
      "1PaKisTan2PaKisTan3\n"
     ]
    }
   ],
   "source": [
    "a='PaKisTan'        #Returns a Concatenated String\n",
    "b='123'\n",
    "print(a.join(b))"
   ]
  },
  {
   "cell_type": "code",
   "execution_count": 28,
   "metadata": {},
   "outputs": [
    {
     "name": "stdout",
     "output_type": "stream",
     "text": [
      "PaKisTan cccccccc\n"
     ]
    }
   ],
   "source": [
    "a='PaKisTan '            #returns left-justified string of given width\n",
    "print(a.ljust(17,'c'))"
   ]
  },
  {
   "cell_type": "code",
   "execution_count": 29,
   "metadata": {},
   "outputs": [
    {
     "name": "stdout",
     "output_type": "stream",
     "text": [
      "{80: 112, 97: 97, 75: 107, 105: 105, 115: 115, 84: 116, 110: 110, 32: 32, 122: 122, 78: 110, 100: 100, 66: 98}\n"
     ]
    }
   ],
   "source": [
    "a='PaKisTan ziNdaBad'       #returns a translation table\n",
    "c='pakistan zindabad'\n",
    "print(a.maketrans(a,c))"
   ]
  },
  {
   "cell_type": "code",
   "execution_count": 30,
   "metadata": {},
   "outputs": [
    {
     "name": "stdout",
     "output_type": "stream",
     "text": [
      "('P', 'a', 'KisTan ziNdaBad')\n",
      "('nab', '1', '23')\n",
      "('pakistan', 'zind', 'abad')\n"
     ]
    }
   ],
   "source": [
    "a='PaKisTan ziNdaBad'       #Returns a Tuple\n",
    "b='nab123'\n",
    "c='pakistanzindabad'\n",
    "print(a.partition('a'))\n",
    "print(b.partition('1'))\n",
    "print(c.partition('zind'))"
   ]
  },
  {
   "cell_type": "code",
   "execution_count": 31,
   "metadata": {},
   "outputs": [
    {
     "name": "stdout",
     "output_type": "stream",
     "text": [
      "P44KisT44n ziNd44B44d\n"
     ]
    }
   ],
   "source": [
    "a='PaKisTan ziNdaBad'        #Replaces Substring Inside\n",
    "print(a.replace('a','44'))"
   ]
  },
  {
   "cell_type": "code",
   "execution_count": 32,
   "metadata": {},
   "outputs": [
    {
     "name": "stdout",
     "output_type": "stream",
     "text": [
      "15\n",
      "4\n",
      "10\n"
     ]
    }
   ],
   "source": [
    "a='PaKisTan ziNdaBad'       #Returns the Highest Index of Substring\n",
    "b='nab123'\n",
    "c='pakistanzindabad'\n",
    "print(a.rfind('a'))\n",
    "print(b.rfind('2'))\n",
    "print(c.rfind('n'))"
   ]
  },
  {
   "cell_type": "code",
   "execution_count": 33,
   "metadata": {},
   "outputs": [
    {
     "name": "stdout",
     "output_type": "stream",
     "text": [
      "15\n",
      "5\n"
     ]
    }
   ],
   "source": [
    "a='PaKisTan ziNdaBad'      #Returns Highest Index of Substring\n",
    "b='nab123'\n",
    "c='pakistanzindabad'\n",
    "print(a.rindex('a'))\n",
    "print(b.rindex('3'))"
   ]
  },
  {
   "cell_type": "code",
   "execution_count": 34,
   "metadata": {},
   "outputs": [
    {
     "name": "stdout",
     "output_type": "stream",
     "text": [
      "ppppppppppPaKisTan\n"
     ]
    }
   ],
   "source": [
    "a='PaKisTan'               #returns right-justified string of given width\n",
    "print(a.rjust(18,'p'))"
   ]
  },
  {
   "cell_type": "code",
   "execution_count": 35,
   "metadata": {},
   "outputs": [
    {
     "name": "stdout",
     "output_type": "stream",
     "text": [
      "('PaKisTan ziNdaB', 'a', 'd')\n",
      "('na', 'b', '123')\n"
     ]
    }
   ],
   "source": [
    "a='PaKisTan ziNdaBad'       #Returns a Tuple\n",
    "b='nab123'\n",
    "print(a.rpartition('a'))\n",
    "print(b.rpartition('b'))"
   ]
  },
  {
   "cell_type": "code",
   "execution_count": 36,
   "metadata": {},
   "outputs": [
    {
     "name": "stdout",
     "output_type": "stream",
     "text": [
      "['PaKisTan', 'ziNdaBad']\n",
      "['nab12', '']\n"
     ]
    }
   ],
   "source": [
    "a='PaKisTan ziNdaBad'        #Splits String From Right\n",
    "b='nab123'\n",
    "print(a.rsplit())\n",
    "print(b.rsplit('3'))"
   ]
  },
  {
   "cell_type": "code",
   "execution_count": 37,
   "metadata": {},
   "outputs": [
    {
     "name": "stdout",
     "output_type": "stream",
     "text": [
      "PaKisTan ziNdaB\n",
      "nab123\n"
     ]
    }
   ],
   "source": [
    "a='PaKisTan ziNdaBad'      #Removes Trailing Characters\n",
    "b='nab123'\n",
    "print(a.rstrip('Nda'))\n",
    "print(b.rstrip('n2'))"
   ]
  },
  {
   "cell_type": "code",
   "execution_count": 38,
   "metadata": {},
   "outputs": [
    {
     "name": "stdout",
     "output_type": "stream",
     "text": [
      "['PaKisTan', 'ziNdaBad']\n",
      "['nab', '23']\n"
     ]
    }
   ],
   "source": [
    "a='PaKisTan ziNdaBad'         #Splits String from Left\n",
    "b='nab123'\n",
    "print(a.split())\n",
    "print(b.split('1'))"
   ]
  },
  {
   "cell_type": "code",
   "execution_count": 39,
   "metadata": {},
   "outputs": [
    {
     "name": "stdout",
     "output_type": "stream",
     "text": [
      "['PaKisTan', 'ziNdaBad']\n"
     ]
    }
   ],
   "source": [
    "a='PaKisTan\\u2028ziNdaBad'      #Splits String at Line Boundaries\n",
    "print(a.splitlines())"
   ]
  },
  {
   "cell_type": "code",
   "execution_count": 40,
   "metadata": {},
   "outputs": [
    {
     "name": "stdout",
     "output_type": "stream",
     "text": [
      "False\n",
      "True\n"
     ]
    }
   ],
   "source": [
    "a='PaKisTan ziNdaBad'          #Checks if String Starts with the Specified String\n",
    "b='nab123'\n",
    "print(a.startswith('pa'))\n",
    "print(b.startswith('na'))"
   ]
  },
  {
   "cell_type": "code",
   "execution_count": 41,
   "metadata": {},
   "outputs": [
    {
     "name": "stdout",
     "output_type": "stream",
     "text": [
      "KisTan ziNdaB\n",
      "ab12\n"
     ]
    }
   ],
   "source": [
    "a='PaKisTan ziNdaBad'        #Removes Both Leading and Trailing Characters\n",
    "b='nab123'\n",
    "print(a.strip('Pad'))\n",
    "print(b.strip('n3'))"
   ]
  },
  {
   "cell_type": "code",
   "execution_count": 42,
   "metadata": {},
   "outputs": [
    {
     "name": "stdout",
     "output_type": "stream",
     "text": [
      "pAkIStAN ZInDAbAD\n",
      "NAB123\n"
     ]
    }
   ],
   "source": [
    "a='PaKisTan ziNdaBad'      #swap uppercase characters to lowercase; vice versa\n",
    "b='nab123'\n",
    "print(a.swapcase())\n",
    "print(b.swapcase())"
   ]
  },
  {
   "cell_type": "code",
   "execution_count": 43,
   "metadata": {},
   "outputs": [
    {
     "name": "stdout",
     "output_type": "stream",
     "text": [
      "Pakistan Zindabad\n",
      "Nab123\n"
     ]
    }
   ],
   "source": [
    "a='PaKisTan ziNdaBad'       #Returns a Title Cased String\n",
    "b='nab123'\n",
    "print(a.title())\n",
    "print(b.title())"
   ]
  },
  {
   "cell_type": "code",
   "execution_count": 44,
   "metadata": {},
   "outputs": [
    {
     "name": "stdout",
     "output_type": "stream",
     "text": [
      "nkb823k56789akpka\n"
     ]
    }
   ],
   "source": [
    "a='PaKisTan ziNdaBad'       #returns mapped charactered string\n",
    "b='nab12345678924pka'\n",
    "c=a.maketrans(a,b)\n",
    "print(a.translate(c))"
   ]
  },
  {
   "cell_type": "code",
   "execution_count": 45,
   "metadata": {},
   "outputs": [
    {
     "name": "stdout",
     "output_type": "stream",
     "text": [
      "PAKISTAN ZINDABAD\n",
      "NAB123\n"
     ]
    }
   ],
   "source": [
    "a='PaKisTan ziNdaBad'       #returns uppercased string\n",
    "b='nab123'\n",
    "print(a.upper())\n",
    "print(b.upper())"
   ]
  },
  {
   "cell_type": "code",
   "execution_count": 46,
   "metadata": {},
   "outputs": [
    {
     "name": "stdout",
     "output_type": "stream",
     "text": [
      "000PaKisTan ziNdaBad\n",
      "000000000nab123\n"
     ]
    }
   ],
   "source": [
    "a='PaKisTan ziNdaBad'   #Returns a Copy of The String Padded With Zeros\n",
    "b='nab123'\n",
    "print(a.zfill(20))\n",
    "print(b.zfill(15))"
   ]
  }
 ],
 "metadata": {
  "kernelspec": {
   "display_name": "Python 3",
   "language": "python",
   "name": "python3"
  },
  "language_info": {
   "codemirror_mode": {
    "name": "ipython",
    "version": 3
   },
   "file_extension": ".py",
   "mimetype": "text/x-python",
   "name": "python",
   "nbconvert_exporter": "python",
   "pygments_lexer": "ipython3",
   "version": "3.7.3"
  }
 },
 "nbformat": 4,
 "nbformat_minor": 2
}
